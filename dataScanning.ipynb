{
 "cells": [
  {
   "cell_type": "markdown",
   "metadata": {},
   "source": [
    "# Getting Relevant Posts and Topic"
   ]
  },
  {
   "cell_type": "markdown",
   "metadata": {},
   "source": [
    "## Importing Libraries"
   ]
  },
  {
   "cell_type": "code",
   "execution_count": 1,
   "metadata": {},
   "outputs": [],
   "source": [
    "# Importing libraries for topic\n",
    "from sklearn.feature_extraction.text import TfidfVectorizer\n",
    "from sklearn.decomposition import NMF\n",
    "import numpy"
   ]
  },
  {
   "cell_type": "code",
   "execution_count": 2,
   "metadata": {},
   "outputs": [],
   "source": [
    "# Importing Libraries for posts\n",
    "import torch\n",
    "from transformers import BertTokenizer, BertModel\n",
    "from sklearn.metrics.pairwise import cosine_similarity"
   ]
  },
  {
   "cell_type": "markdown",
   "metadata": {},
   "source": [
    "## Getting all the posts"
   ]
  },
  {
   "cell_type": "code",
   "execution_count": 3,
   "metadata": {},
   "outputs": [],
   "source": [
    "post_list = []"
   ]
  },
  {
   "cell_type": "code",
   "execution_count": 4,
   "metadata": {},
   "outputs": [],
   "source": [
    "# Getting pinterest posts \n",
    "with open(\"pinterestData.txt\",\"r\") as file:\n",
    "    dataList = file.readlines()\n",
    "dataList = [item.strip() for item in dataList]\n",
    "post_list.extend(dataList)"
   ]
  },
  {
   "cell_type": "code",
   "execution_count": 5,
   "metadata": {},
   "outputs": [],
   "source": [
    "# Getting facebook posts\n",
    "with open(\"facebookPost.txt\",\"r\", encoding=\"utf-8\") as file:\n",
    "    dataList = file.readlines()\n",
    "dataList = [item.strip() for item in dataList]\n",
    "post_list.extend(dataList)"
   ]
  },
  {
   "cell_type": "code",
   "execution_count": 6,
   "metadata": {},
   "outputs": [],
   "source": [
    "# Getting reddit posts\n",
    "with open(\"redditPost.txt\",\"r\", encoding=\"utf-8\") as file:\n",
    "    dataList = file.readlines()\n",
    "dataList = [item.strip() for item in dataList]\n",
    "post_list.extend(dataList)"
   ]
  },
  {
   "cell_type": "code",
   "execution_count": 7,
   "metadata": {},
   "outputs": [],
   "source": [
    "# getting the keyword\n",
    "with open(\"keyword.txt\",\"r\") as file:\n",
    "    hashtag_to_search = file.read().strip()"
   ]
  },
  {
   "cell_type": "markdown",
   "metadata": {},
   "source": [
    "## Getting the relevant Posts and Topic"
   ]
  },
  {
   "cell_type": "code",
   "execution_count": 10,
   "metadata": {},
   "outputs": [
    {
     "data": {
      "text/plain": [
       "['wallpaper kitty',\n",
       " 'ideas tree',\n",
       " 'merry decor',\n",
       " 'paintings canvas',\n",
       " 'gifts diy']"
      ]
     },
     "execution_count": 10,
     "metadata": {},
     "output_type": "execute_result"
    }
   ],
   "source": [
    "# Getting the topic\n",
    "list_keyword = []\n",
    "def extract_topics(posts, num_topics = 5):\n",
    "    vectorizer = TfidfVectorizer(max_df=0.85, max_features=1000, stop_words='english')\n",
    "    tfidf_matrix = vectorizer.fit_transform(posts)\n",
    "    \n",
    "    nmf = NMF(n_components=num_topics, random_state=42)\n",
    "    nmf.fit(tfidf_matrix)\n",
    "    \n",
    "    feature_names = vectorizer.get_feature_names_out()\n",
    "    for i,topic in enumerate(nmf.components_):\n",
    "        top_words_idx = topic.argsort()[:-10-1:-1]\n",
    "        top_words = [feature_names[idx] for idx in top_words_idx]\n",
    "        list_keyword.append(\" \".join(top_words[0:2]))\n",
    "extract_topics(post_list)\n",
    "list_keyword"
   ]
  },
  {
   "cell_type": "code",
   "execution_count": 11,
   "metadata": {},
   "outputs": [
    {
     "data": {
      "text/plain": [
       "['christmas nails',\n",
       " 'christmas wallpaper',\n",
       " 'christmas tree ideas',\n",
       " 'christmas cookies',\n",
       " 'christmas tree',\n",
       " 'christmas crafts',\n",
       " 'christmas wallpaper aesthetic',\n",
       " 'christmas gift ideas',\n",
       " 'diy christmas ornaments',\n",
       " 'christmas nails 2023',\n",
       " 'christmas nail designs',\n",
       " 'simple christmas nails',\n",
       " 'christmas gifts',\n",
       " 'coloring pages christmas',\n",
       " 'christmas wallpaper iphone',\n",
       " 'pink christmas wallpaper',\n",
       " 'christmas paintings',\n",
       " 'christmas house exterior',\n",
       " 'christmas pfp',\n",
       " 'diy christmas gifts',\n",
       " 'christmas crafts for kids',\n",
       " 'holiday decor christmas',\n",
       " 'christmas hello kitty wallpaper',\n",
       " 'christmas wallpaper laptop',\n",
       " 'christmas wallpaper ipad',\n",
       " 'hallway christmas decor',\n",
       " 'christmas gifts for boyfriend',\n",
       " 'christmas painting ideas',\n",
       " 'christmas basket for boyfriend',\n",
       " 'gingerbread themed christmas decor',\n",
       " 'christmas computer wallpaper',\n",
       " 'little women christmas',\n",
       " 'christmas canvas paintings',\n",
       " 'funny christmas wallpaper',\n",
       " 'christmas basket gift ideas',\n",
       " 'christmas rock painting ideas',\n",
       " 'hello kitty wallpaper christmas',\n",
       " 'jenga block christmas crafts',\n",
       " 'cute christmas wallpapers',\n",
       " 'christmas paintings on canvas',\n",
       " 'christmas wallpaper grinch',\n",
       " 'family christmas pictures outdoor',\n",
       " 'north pole christmas decor',\n",
       " '2x4 christmas tree',\n",
       " 'christmas outfit',\n",
       " 'christmas door decorations',\n",
       " 'diy christmas pictures',\n",
       " 'christmas lights',\n",
       " 'christmas wallpaper red',\n",
       " 'christmas painting',\n",
       " 'Reggie & Ladye Love Smith sing the classics and more on their Christmas album That Special Time of Year! 🎄Listen here: http://gaithermusic.lnk.to/RLSp… See more',\n",
       " 'One pan Christmas dinner #christmas #christmasgiftsideas #christmastime #dinnerideas #familyfriendly',\n",
       " 'A cute + affordable way to add some Christmas cheer to your front entry 🎁🎄 #christmas #christmasdecor #christmasfrontporch #christmasdecoratingideas',\n",
       " '-#Positivity-',\n",
       " 'So if you couldn’t tell, it was pouring rain all day. I waited until the last second to whip this parade “float” together. The tents I borrowed flew a… See more',\n",
       " 'In memory of Shane MacGowan ❤️#cairde #shanemacgowan #thepogues #Christmas',\n",
       " 'Do you want to build a… vegetable man?',\n",
       " 'These is about to become my theme song 😊#fyp #holdon #changeiscoming #love #christmas #spreadinglove',\n",
       " 'Christmas on more people : Christmas tree. My christmas :',\n",
       " 'Christmas',\n",
       " 'Christmas boys, Christmas…',\n",
       " 'My Christmas bonus',\n",
       " 'Christmas',\n",
       " 'Christmas lights and christmas market, first ever street photography session.',\n",
       " 'My Christmas baby',\n",
       " 'Christmas Countdown: SFH Christmas Edition (12 days left)',\n",
       " 'Grandpa won Christmas!',\n",
       " 'Oh, Christmas Cat oh Christmas cat…',\n",
       " 'Loser Christmas',\n",
       " 'Merry.christmas',\n",
       " 'Celebrate Christmas With Creative Christmas Trees!!🎄🎄❤️💚',\n",
       " 'Christmas wishlist :',\n",
       " '“Christmas with DOOM” a virtual christmas card',\n",
       " 'Christmas',\n",
       " 'Merry Christmas',\n",
       " 'Christmas humour',\n",
       " 'London Christmas?',\n",
       " 'Happy Christmas!',\n",
       " 'Christmas',\n",
       " 'Merry Christmas!!!⛄🎅🦌',\n",
       " '\"No, he\\'s the Christmas Rapist! He rapes on Christmas! Is nothing sacred?!\"',\n",
       " \"It's a Christmas miracle\",\n",
       " 'New Christmas Tree + Christmas decorations + Chinese NY decorations Leaked by Clash Kurdish',\n",
       " 'r/christmas',\n",
       " 'r/ChristmasDecorating',\n",
       " 'r/ChristmasLights',\n",
       " 'r/pics',\n",
       " 'r/aww',\n",
       " 'u/ChristmasOf1984',\n",
       " 'u/PracticalDay9048',\n",
       " 'u/happyhungryhijabi',\n",
       " 'u/OzBargainBot',\n",
       " 'u/jam1974']"
      ]
     },
     "execution_count": 11,
     "metadata": {},
     "output_type": "execute_result"
    }
   ],
   "source": [
    "# Getting the most relevant posts\n",
    "def get_bert_embeddings(posts):\n",
    "    model_name = 'bert-base-uncased'\n",
    "    tokenizer = BertTokenizer.from_pretrained(model_name)\n",
    "    model = BertModel.from_pretrained(model_name)\n",
    "\n",
    "    if isinstance(posts, str):\n",
    "        posts = [posts]\n",
    "    \n",
    "    encoded_posts = tokenizer(posts, return_tensors='pt', padding = True, truncation=True)\n",
    "\n",
    "    with torch.no_grad():\n",
    "        outputs = model(**encoded_posts)\n",
    "        embeddings = outputs['last_hidden_state'][:,0, :].numpy()\n",
    "    return embeddings\n",
    "\n",
    "def compute_cosine_similarity(post_embeddings, topic_embedding):\n",
    "    post_embeddings = post_embeddings.reshape(post_embeddings.shape[0],-1)\n",
    "    topic_embedding = topic_embedding.reshape(1, -1)\n",
    "    similarities = cosine_similarity(post_embeddings, topic_embedding)\n",
    "    return similarities.flatten()\n",
    "\n",
    "def find_relevance_to_topic(posts, topic, threshold = 0.5):\n",
    "    post_embeddings = get_bert_embeddings(posts)\n",
    "    topic_embedding = get_bert_embeddings(topic)\n",
    "    similarities = compute_cosine_similarity(post_embeddings,topic_embedding)\n",
    "    relevant_posts = [post for post, sim in zip(posts, similarities) if sim > threshold]\n",
    "    return relevant_posts\n",
    "\n",
    "relevant_posts = find_relevance_to_topic(post_list,hashtag_to_search)\n",
    "relevant_posts"
   ]
  },
  {
   "cell_type": "code",
   "execution_count": 15,
   "metadata": {},
   "outputs": [],
   "source": [
    "# Taking Topmost 10 posts\n",
    "if(len(relevant_posts) > 10):\n",
    "    relevant_posts = relevant_posts[:10]"
   ]
  },
  {
   "cell_type": "code",
   "execution_count": 16,
   "metadata": {},
   "outputs": [],
   "source": [
    "with open(\"post.txt\",\"w\", encoding=\"utf-8\") as file:\n",
    "    for post in relevant_posts:\n",
    "        file.write(str(post) + \"\\n\")"
   ]
  },
  {
   "cell_type": "code",
   "execution_count": 17,
   "metadata": {},
   "outputs": [],
   "source": [
    "with open(\"postKeyword.txt\",\"w\", encoding=\"utf-8\") as file:\n",
    "    for post in list_keyword:\n",
    "        file.write(str(post) + \"\\n\")"
   ]
  }
 ],
 "metadata": {
  "kernelspec": {
   "display_name": "Python 3",
   "language": "python",
   "name": "python3"
  },
  "language_info": {
   "codemirror_mode": {
    "name": "ipython",
    "version": 3
   },
   "file_extension": ".py",
   "mimetype": "text/x-python",
   "name": "python",
   "nbconvert_exporter": "python",
   "pygments_lexer": "ipython3",
   "version": "3.11.7"
  }
 },
 "nbformat": 4,
 "nbformat_minor": 2
}
