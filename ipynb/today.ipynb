{
 "cells": [
  {
   "cell_type": "code",
   "execution_count": 4,
   "metadata": {},
   "outputs": [],
   "source": [
    "from pytrends.request import TrendReq"
   ]
  },
  {
   "cell_type": "code",
   "execution_count": 5,
   "metadata": {},
   "outputs": [],
   "source": [
    "pytrend = TrendReq()"
   ]
  },
  {
   "cell_type": "code",
   "execution_count": null,
   "metadata": {},
   "outputs": [],
   "source": [
    "with open(\"country.txt\",\"r\") as file:\n",
    "    country = file.read().strip()"
   ]
  },
  {
   "cell_type": "code",
   "execution_count": 6,
   "metadata": {},
   "outputs": [
    {
     "data": {
      "text/plain": [
       "['Matthew Perry cause of death',\n",
       " 'Jake Paul',\n",
       " 'Rudy Giuliani',\n",
       " 'Suns',\n",
       " 'Celtics']"
      ]
     },
     "execution_count": 6,
     "metadata": {},
     "output_type": "execute_result"
    }
   ],
   "source": [
    "trendingtoday = pytrend.today_searches(pn=country)\n",
    "top_searches = trendingtoday.head(5)\n",
    "searches = []\n",
    "for index, url_string in enumerate(top_searches):\n",
    "    start_index = url_string.find(\"q=\") + 2\n",
    "    end_index = url_string.find(\"&date\")\n",
    "    search_query = url_string[start_index:end_index]\n",
    "    search_query = search_query.replace(\"+\", \" \")\n",
    "    searches.append(search_query)\n",
    "searches"
   ]
  },
  {
   "cell_type": "code",
   "execution_count": null,
   "metadata": {},
   "outputs": [],
   "source": [
    "with open(\"post.txt\",\"w\", encoding=\"utf-8\") as file:\n",
    "    for post in searches:\n",
    "        file.write(str(post) + \"\\n\")"
   ]
  }
 ],
 "metadata": {
  "kernelspec": {
   "display_name": "Python 3",
   "language": "python",
   "name": "python3"
  },
  "language_info": {
   "codemirror_mode": {
    "name": "ipython",
    "version": 3
   },
   "file_extension": ".py",
   "mimetype": "text/x-python",
   "name": "python",
   "nbconvert_exporter": "python",
   "pygments_lexer": "ipython3",
   "version": "3.11.7"
  }
 },
 "nbformat": 4,
 "nbformat_minor": 2
}
